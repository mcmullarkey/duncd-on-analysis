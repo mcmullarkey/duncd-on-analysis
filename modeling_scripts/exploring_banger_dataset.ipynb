{
 "cells": [
  {
   "cell_type": "code",
   "execution_count": 28,
   "metadata": {},
   "outputs": [],
   "source": [
    "import polars as pl\n",
    "import altair as alt\n",
    "import numpy as np"
   ]
  },
  {
   "cell_type": "markdown",
   "metadata": {},
   "source": [
    "# Read in data"
   ]
  },
  {
   "cell_type": "code",
   "execution_count": 6,
   "metadata": {},
   "outputs": [],
   "source": [
    "df_episodes = pl.read_csv(\"../data/labeling-app/podcast_episodes.csv\")\n",
    "df_banger = pl.read_csv(\"../data/labeling-app/episode_types.csv\")\n",
    "df_all = df_banger.join(df_episodes, left_on=\"episode\", right_on=\"title\", how=\"left\")"
   ]
  },
  {
   "cell_type": "markdown",
   "metadata": {},
   "source": [
    "# Get initial summary"
   ]
  },
  {
   "cell_type": "code",
   "execution_count": 7,
   "metadata": {},
   "outputs": [
    {
     "name": "stdout",
     "output_type": "stream",
     "text": [
      "Rows: 553\n",
      "Columns: 8\n",
      "$              <i64> 0, 0, 0, 0, 0, 0, 0, 0, 0, 0\n",
      "$ episode      <str> 'Dorian Finney-Smith Traded to the Lakers', '2024 Year in Review; The Kings Fire Mike Brown', 'Friday Daily Duncs (12/27/24)', 'The Worst Contracts in the NBA; Fox and Butler Drama and the Rest of the News', 'Thursday Daily Duncs (12/26/24)', 'The Christmas Games: LAL @ GSW; SAS @ NYK; MIN @ DAL; PHI @ BOS; DEN @ PHX', 'Tuesday Daily Dunc (12/24/24)', 'Monday Daily Duncs (12/23/24)', '15 in 60 (Eastern Conference 12.23.24)', 'Friday Daily Duncs (12/20/24)'\n",
      "$ episode_type <str> 'big_picture', 'big_picture', 'daily_duncs', 'big_picture', 'daily_duncs', 'gamer', 'daily_duncs', 'daily_duncs', 'big_picture', 'daily_duncs'\n",
      "$ banger       <str> 'no', 'yes', 'no', 'no', 'no', 'yes', 'no', 'no', 'no', 'no'\n",
      "$ date         <str> '2024-12-30 05:37:20', '2024-12-29 07:50:33', '2024-12-28 03:58:33', '2024-12-27 06:58:03', '2024-12-26 18:57:24', '2024-12-26 08:59:56', '2024-12-24 18:07:47', '2024-12-23 23:16:42', '2024-12-23 07:21:38', '2024-12-20 20:20:55'\n",
      "$ description  <str> 'The Lakers avoid giving up a first-round pick and take a swing on the best 3 and D player they’ve had since 2021.\\xa0 Was this the best the Nets could have done? And which teams, if any, missed out on DFS?', 'In an annual tradition, Nate and Danny look back at the biggest stories of 2024 and pick the three most consequential. Plus, we look back on what we thought would be the biggest stories at the start of the year and see how well we predicted them.\\nThen, Nate is more on board with the Kings firing Mike Brown than the consensus, while Danny thinks it was a ridiculous move. 1:07:45', 'Full Daily Duncs with links\\n\\nMike Brown\\n\\nMichael Malone\\n\\nMike Brown\\n\\nJaden Ivey\\n\\nPat Riley\\n\\nJimmy Butler\\n\\nJimmy Butler\\n\\nAtlanta Hawks\\n\\nMemphis Grizzlies\\n\\nHeat-Magic\\n\\nFull Daily Duncs with links', 'It’s our annual look at the worst contracts in the NBA.\\xa0Which are the most untradeable contracts, or the worst from a projected dollar/production standpoint over the life of the deal? 39:02.\\nBut first, we catch up on the latest news around the league, including analysis of the simmering De’Aaron Fox situation in Sacramento and a mano a mano between Jimmy Butler and Pat Riley brewing in Miami.', 'Full Daily Duncs with links\\n\\nJimmy Butler\\n\\nTrade-desire scale\\n\\nVictor Wembanyama\\n\\nVictor Wembanyama-Mikal Bridges\\n\\n76ers-Celtics\\n\\nCaleb Martin\\n\\nJoel Embiid\\n\\nLakers, Suns\\n\\nChristmas\\n\\nNBA\\n\\nFull Daily Duncs with links', 'We wrap up all five games of an awesome Christmas slate.\\xa0Steph vs LeBron remains must-see TV.\\xa0Victor Wembanyama has one of the best Christmas debuts ever, even while only scratching the surface. 31:41 Minnesota gets a nice win in Dallas, and we assess the impact of Luka Doncic’s calf injury. 51:20 Did Philly’s win in Boston provide proof of concept for what this group can be? 1:05:41 And the Suns out-executed the Nuggets despite the absence of Devin Booker. 1:19:49', \"The Bucks raised a stink about not getting a Christmas game this year. And on paper, Milwaukee has some reason to be miffed. The Bucks have star power, a long track record of success and a 16-12 record.\\nThey're also just the seventh-best team not playing tomorrow.\\nThe NBA's Christmas schedule is historically lacking representation from the league's top teams.\\nCleveland (26-4) and Oklahoma City (23-5) are not only atop the standings, they have the best combined record by the two best teams omitted from the Christmas slate since 1990.* Back then, there was only one Christmas game! The only other time the top two teams not playing on Christmas were so strong was 1966.\\n*As all numbers here, excluding 2020, when the coronavirus-delayed season began just days before Christmas.\\nThe Cavs in particular have the best record for a team not playing on Christmas since the Celtics in 2007 (22-3).\\nThe all-time record? Chicago was 23-2 without a Christmas game in 1995. Who would have thought a Michael Jordan-Bulls team would get left home on Christmas? A Rockets-Magic Finals rematch and Spurs-Suns matchup were the only games that day.\\nBack to this year… Houston (20-9) and Memphis (20-10) also have better records than any team playing tomorrow besides Boston. Orlando (19-12) isn't far behind.\\nSix teams winning more than 60% of their games but sitting home on the NBA's premier regular-season date are the most in a decade.\\nThe teams actually playing tomorrow\\xa0have combined to win fewer than 57% of their games:\\n\\nSpurs (15-14) at Knicks (19-10)\\n\\nTimberwolves (14-14) at Mavericks (19-10)\\n\\n76ers (10-17) at Celtics (22-7)\\n\\nLakers (16-13) at Warriors (15-13)\\n\\nNuggets (16-11) at Suns (14-14)\\n\\nThat combined winning percentage of teams playing on Christmas is also the lowest in a decade.\\nHowever, many years are dragged down by a couple truly dreadful teams. Philadelphia is the only team with a losing record playing tomorrow. It has been three decades since the Christmas-playing teams had such a poor combined record despite so few of them having losing records.\\nJust a whole bunch of mediocrity tomorrow.\\nWhile the best teams stay home.\\n-Dan Feldman\", \"Full Daily Duncs with links\\n\\nAlex Caruso\\n\\nDe'Aaron Fox\\n\\nVictor Wembanyama\\n\\nJimmy Butler\\n\\nJonathan Kuminga\\n\\nGolden State Warriors\\n\\nMagic-Heat\\n\\nLauri Markkanen\\n\\nTowel guy\\n\\nDunc'd On Live\\n\\nFull Daily Duncs with links\", 'Our bi-weekly look at the Eastern Conference!\\n\\nNYK: Karl-Anthony Towns went crazy against Minnesota in a surgical performance.\\n\\nCHI and BOS: The Bulls won in Boston as Zach LaVine was the best player on the floor. 11:24\\n\\nIND: The Pacers have won 4 straight after getting some reinforcements. 24:39\\n\\nMIL and CLE: The Cavaliers machine rolls on. 33:38\\n\\nCHA and WAS: Having professional players matters in this matchup 46:24\\n\\nDET: Tobias Harris is himself, only less so. 59:29\\n\\nATL: Dyson Daniels has been a wrecking ball on defense, but his offense? 1:04:45\\n\\nTOR: Ja’Kobe Walter had a breakout game in their loss to the Rockets. 1:12:58\\n\\nPHI: The Sixers inexplicably can’t hit even the good shots they’re generating. 1:21:34\\n\\nBKN: The honeymoon may finally be over now that they have no guards. 1:29:55\\n\\nMIA and ORL: The Magic dealt Miami another epic collapse without their 4 best offensive players 1:36:12', 'Full Daily Duncs with links\\n\\nTrivia\\n\\nCeltics-Bulls\\n\\nStephen Curry\\n\\nLauri Markkanen\\n\\nLeBron James\\n\\nTrivia hint\\n\\nKarl-Anthony Towns\\n\\nMVP\\n\\nNicolas Claxton\\n\\nTrivia answer\\n\\nFull Daily Duncs with links'\n",
      "$ duration     <i64> 1643, 5023, 371, 5589, 410, 5475, 139, 382, 6558, 367\n",
      "$ url          <str> 'https://duncdon.supportingcast.fm/content/eyJ0IjoicyIsImMiOiIxMjcwNTY1NSIsInUiOiIxNDI4NTQiLCJkIjoiMTczNTUzODE5MSIsImsiOjE0Mn18YzU1MjdjODUyNDkxYzJiNWM2NGQ0OWEyYWYwMmI3NmNhMDdlMmVhNzZjYzRmMThmZDlmNzgzNzhlMmJlOTA5NQ.mp3', 'https://duncdon.supportingcast.fm/content/eyJ0IjoicyIsImMiOiIxMjY5ODU5MSIsInUiOiIxNDI4NTQiLCJkIjoiMTczNTQ1OTU0OCIsImsiOjE0Mn18MDFmY2Q3MGJmNjE4NzdjYjg2NDNmMzgwNTUxOWY2ODM3YTNlNjg5ZDM3NjZlYmQ4ZjliOTNjNjdhM2EwNmFlMg.mp3', 'https://duncdon.supportingcast.fm/content/eyJ0IjoicyIsImMiOiIxMjY4OTY4NSIsInUiOiIxNDI4NTQiLCJkIjoiMTczNTM1OTMyNCIsImsiOjE0Mn18Nzk3NDAxNzhhNGZhNmZmZmZiOWYwNTJhMDY3MWFkZGUwMjhiNmIxYzMyODA5M2U1NjFhNGQ0MjJlNmI5MzYwNg.mp3', 'https://duncdon.supportingcast.fm/content/eyJ0IjoicyIsImMiOiIxMjY4MDE3MSIsInUiOiIxNDI4NTQiLCJkIjoiMTczNTI4MzEzNiIsImsiOjE0Mn18YmM3ZDE1N2IzNjVhNTZhZDk4NzNhM2Y1ZDJhYjBhMjY4ZWQ4OWE4ZGE0NmE3OWI1MTVmNDM0YWU1NDRmZWE4YQ.mp3', 'https://duncdon.supportingcast.fm/content/eyJ0IjoicyIsImMiOiIxMjY3Njg5OCIsInUiOiIxNDI4NTQiLCJkIjoiMTczNTI0MDU0NSIsImsiOjE0Mn18MzkzZDY1ZjU5NWQ1ODhlNWUwODljNDAyNTIyOGQyNmI0MmNlN2M5NTBiYTk5N2RhMWM2Y2FhOTk5NzZjNmUzNw.mp3', 'https://duncdon.supportingcast.fm/content/eyJ0IjoicyIsImMiOiIxMjY3MzI1NiIsInUiOiIxNDI4NTQiLCJkIjoiMTczNTIwNDU0NSIsImsiOjE0Mn18YmE1NDQyMGFmYWExYWE5MjMzOWQ2N2QwYjI5ZTNhYTc4ODM4NGRjYTFjMzNjOTg5ZDI0YWYwZTc3MGMyN2I2Mw.mp3', 'https://duncdon.supportingcast.fm/content/eyJ0IjoicyIsImMiOiIxMjY1NTU1NCIsInUiOiIxNDI4NTQiLCJkIjoiMTczNTA2NDE1NiIsImsiOjE0Mn18NDQ3MTI1ZTg1ZDdmOThkYjZhYTliYTRiYTc2NjJiZjczNWFlZWVmYWY5YjUzYjNmZmM5YjliOTM0Zjc1OTM1NA.mp3', 'https://duncdon.supportingcast.fm/content/eyJ0IjoicyIsImMiOiIxMjY0NjA2MyIsInUiOiIxNDI4NTQiLCJkIjoiMTczNDk5Njk1MiIsImsiOjE0Mn18MmU0YjJkNmVkMzQxN2M1YzRiMDg1N2E2YTFmM2Q3MjY1OWYyZjMzOTJmMGE1NmYxZjFhZGVkODdjNTlhNzA5MQ.mp3', 'https://duncdon.supportingcast.fm/content/eyJ0IjoicyIsImMiOiIxMjYzODEyMCIsInUiOiIxNDI4NTQiLCJkIjoiMTczNDkzOTM0MyIsImsiOjE0Mn18YzI0YWE3NzM5Y2ZhYTNiNzEwY2E4ODFlNzgzNDA5MDY4Zjk0MjgyOWVkMzA2NmFjZDNhNGEzNGFmNDdjMGI5Mw.mp3', 'https://duncdon.supportingcast.fm/content/eyJ0IjoicyIsImMiOiIxMjYxNzg1MiIsInUiOiIxNDI4NTQiLCJkIjoiMTczNDcyNjk2NyIsImsiOjE0Mn18MTQyZGYyZjQwMjEwNDA4MWFmMTI0MzcyMTVkM2U4MWZkNjg2MTQ3ODAxNmY0Y2YzYzMyNDY1ZmI4NjJlZTNmNA.mp3'\n",
      "\n"
     ]
    }
   ],
   "source": [
    "df_all.glimpse()"
   ]
  },
  {
   "cell_type": "markdown",
   "metadata": {},
   "source": [
    "# Cast to correct types for modeling"
   ]
  },
  {
   "cell_type": "code",
   "execution_count": 45,
   "metadata": {},
   "outputs": [
    {
     "name": "stdout",
     "output_type": "stream",
     "text": [
      "shape: (553, 6)\n",
      "┌─────────────────────┬──────────────┬────────┬──────────────┬─────────────────────┬───────────────┐\n",
      "│ episode             ┆ episode_type ┆ banger ┆ date         ┆ description         ┆ duration_secs │\n",
      "│ ---                 ┆ ---          ┆ ---    ┆ ---          ┆ ---                 ┆ ---           │\n",
      "│ str                 ┆ cat          ┆ cat    ┆ datetime[μs] ┆ str                 ┆ i64           │\n",
      "╞═════════════════════╪══════════════╪════════╪══════════════╪═════════════════════╪═══════════════╡\n",
      "│ Dorian Finney-Smith ┆ big_picture  ┆ no     ┆ 2024-12-30   ┆ The Lakers avoid    ┆ 1643          │\n",
      "│ Traded to …         ┆              ┆        ┆ 05:37:20     ┆ giving up a f…      ┆               │\n",
      "│ 2024 Year in        ┆ big_picture  ┆ yes    ┆ 2024-12-29   ┆ In an annual        ┆ 5023          │\n",
      "│ Review; The Kings…  ┆              ┆        ┆ 07:50:33     ┆ tradition, Nate a…  ┆               │\n",
      "│ Friday Daily Duncs  ┆ daily_duncs  ┆ no     ┆ 2024-12-28   ┆ Full Daily Duncs    ┆ 371           │\n",
      "│ (12/27/24)          ┆              ┆        ┆ 03:58:33     ┆ with links          ┆               │\n",
      "│                     ┆              ┆        ┆              ┆                     ┆               │\n",
      "│                     ┆              ┆        ┆              ┆ M…                  ┆               │\n",
      "│ The Worst Contracts ┆ big_picture  ┆ no     ┆ 2024-12-27   ┆ It’s our annual     ┆ 5589          │\n",
      "│ in the NBA…         ┆              ┆        ┆ 06:58:03     ┆ look at the wo…     ┆               │\n",
      "│ Thursday Daily      ┆ daily_duncs  ┆ no     ┆ 2024-12-26   ┆ Full Daily Duncs    ┆ 410           │\n",
      "│ Duncs (12/26/24…    ┆              ┆        ┆ 18:57:24     ┆ with links          ┆               │\n",
      "│                     ┆              ┆        ┆              ┆                     ┆               │\n",
      "│                     ┆              ┆        ┆              ┆ J…                  ┆               │\n",
      "│ …                   ┆ …            ┆ …      ┆ …            ┆ …                   ┆ …             │\n",
      "│ Mailbag: 5 East     ┆ big_picture  ┆ no     ┆ 2023-12-19   ┆ WAS: What should    ┆ 3256          │\n",
      "│ Teams, Plus Ne…     ┆              ┆        ┆ 02:03:39     ┆ they accept i…      ┆               │\n",
      "│ Mailbag: 9 East     ┆ big_picture  ┆ no     ┆ 2023-12-18   ┆ We took questions   ┆ 5827          │\n",
      "│ Teams in 97 Mi…     ┆              ┆        ┆ 00:27:03     ┆ from listene…       ┆               │\n",
      "│ Friday Daily Duncs  ┆ daily_duncs  ┆ no     ┆ 2023-12-15   ┆ Full Daily Duncs    ┆ 315           │\n",
      "│ (12/15/23)          ┆              ┆        ┆ 21:24:44     ┆ with links          ┆               │\n",
      "│                     ┆              ┆        ┆              ┆                     ┆               │\n",
      "│                     ┆              ┆        ┆              ┆ D…                  ┆               │\n",
      "│ Corrected: The      ┆ big_picture  ┆ no     ┆ 2023-12-15   ┆ Jared Dubin makes a ┆ 4539          │\n",
      "│ Trends of 2023-…    ┆              ┆        ┆ 04:09:21     ┆ living mak…         ┆               │\n",
      "│ Thursday Daily      ┆ daily_duncs  ┆ no     ┆ 2023-12-14   ┆ Full Daily Duncs    ┆ 438           │\n",
      "│ Duncs (12/14/23…    ┆              ┆        ┆ 22:15:50     ┆ with links          ┆               │\n",
      "│                     ┆              ┆        ┆              ┆                     ┆               │\n",
      "│                     ┆              ┆        ┆              ┆ D…                  ┆               │\n",
      "└─────────────────────┴──────────────┴────────┴──────────────┴─────────────────────┴───────────────┘\n"
     ]
    }
   ],
   "source": [
    "df_types = df_all.select(\n",
    "    pl.col(\"episode\"),\n",
    "    pl.col(\"episode_type\", \"banger\").cast(pl.Categorical),\n",
    "    pl.col(\"date\").str.strptime(pl.Datetime, format=\"%Y-%m-%d %H:%M:%S\"),\n",
    "    pl.col(\"description\"),\n",
    "    pl.col(\"duration\").alias(\"duration_secs\")\n",
    ")\n",
    "print(df_types)"
   ]
  },
  {
   "cell_type": "markdown",
   "metadata": {},
   "source": [
    "# Some ideas for features to predict bangers status\n",
    "- Rule-based step where if Daily Dunc is in the title the answer is no\n",
    "- If the title includes Game 1-7 anywhere in it (since playoff recaps tend to be good)\n",
    "- Decomposing datetime into seasonal trends so if there's any trends over time we capture them\n",
    "- Say if the episode is over 30 min, because the shorter pods tend not to be bangers\n",
    "- Can do some exploration of word usage breakdown once we split to train and validation in descriptions for any words that seem to indicate banger episodes vs. not"
   ]
  },
  {
   "cell_type": "code",
   "execution_count": 126,
   "metadata": {},
   "outputs": [],
   "source": [
    "df_features = df_types.select(\n",
    "    pl.col(\"episode\").str.contains(r\"Game [1-7]\").alias(\"about_playoff_game\").cast(pl.Int8),\n",
    "    pl.col(\"episode\").str.contains(r\"H&D\").alias(\"is_hollinger_duncan\").cast(pl.Int8),\n",
    "    pl.col(\"episode\").str.contains(r\"Daily Duncs\").alias(\"is_daily_dunc\").cast(pl.Int8),\n",
    "    pl.col(\"episode\").str.contains(r\"Mock\").alias(\"is_mock_episode\").cast(pl.Int8),\n",
    "    pl.col(\"episode\").str.contains(r\"Awards\").alias(\"is_awards_episode\").cast(pl.Int8),\n",
    "    pl.col(\"date\").dt.year().alias(\"year\"),\n",
    "    pl.col(\"date\").dt.month().alias(\"month\"),\n",
    "    pl.col(\"date\").dt.weekday().alias(\"weekday\"),\n",
    "    pl.col(\"date\").dt.hour().alias(\"hour\"),\n",
    "    (pl.col(\"duration_secs\") > 1800).alias(\"longer_thirty_min\").cast(pl.Int8),\n",
    "    pl.col(\"duration_secs\"),\n",
    "    pl.col(\"episode\").str.contains(r\"Celtics\").alias(\"description_contains_celtics\").cast(pl.Int8),\n",
    ").drop_nulls()"
   ]
  },
  {
   "cell_type": "code",
   "execution_count": 127,
   "metadata": {},
   "outputs": [
    {
     "data": {
      "text/html": [
       "<div><style>\n",
       ".dataframe > thead > tr,\n",
       ".dataframe > tbody > tr {\n",
       "  text-align: right;\n",
       "  white-space: pre-wrap;\n",
       "}\n",
       "</style>\n",
       "<small>shape: (9, 13)</small><table border=\"1\" class=\"dataframe\"><thead><tr><th>statistic</th><th>about_playoff_game</th><th>is_hollinger_duncan</th><th>is_daily_dunc</th><th>is_mock_episode</th><th>is_awards_episode</th><th>year</th><th>month</th><th>weekday</th><th>hour</th><th>longer_thirty_min</th><th>duration_secs</th><th>description_contains_celtics</th></tr><tr><td>str</td><td>f64</td><td>f64</td><td>f64</td><td>f64</td><td>f64</td><td>f64</td><td>f64</td><td>f64</td><td>f64</td><td>f64</td><td>f64</td><td>f64</td></tr></thead><tbody><tr><td>&quot;count&quot;</td><td>553.0</td><td>553.0</td><td>553.0</td><td>553.0</td><td>553.0</td><td>553.0</td><td>553.0</td><td>553.0</td><td>553.0</td><td>553.0</td><td>553.0</td><td>553.0</td></tr><tr><td>&quot;null_count&quot;</td><td>0.0</td><td>0.0</td><td>0.0</td><td>0.0</td><td>0.0</td><td>0.0</td><td>0.0</td><td>0.0</td><td>0.0</td><td>0.0</td><td>0.0</td><td>0.0</td></tr><tr><td>&quot;mean&quot;</td><td>0.074141</td><td>0.050633</td><td>0.399638</td><td>0.009042</td><td>0.009042</td><td>2023.954792</td><td>6.453888</td><td>3.399638</td><td>11.56962</td><td>0.566004</td><td>2524.669078</td><td>0.005425</td></tr><tr><td>&quot;std&quot;</td><td>0.262238</td><td>0.219445</td><td>0.490267</td><td>0.094742</td><td>0.094742</td><td>0.207948</td><td>3.615354</td><td>1.664136</td><td>8.581617</td><td>0.496073</td><td>2020.403906</td><td>0.073521</td></tr><tr><td>&quot;min&quot;</td><td>0.0</td><td>0.0</td><td>0.0</td><td>0.0</td><td>0.0</td><td>2023.0</td><td>1.0</td><td>1.0</td><td>0.0</td><td>0.0</td><td>139.0</td><td>0.0</td></tr><tr><td>&quot;25%&quot;</td><td>0.0</td><td>0.0</td><td>0.0</td><td>0.0</td><td>0.0</td><td>2024.0</td><td>3.0</td><td>2.0</td><td>4.0</td><td>0.0</td><td>443.0</td><td>0.0</td></tr><tr><td>&quot;50%&quot;</td><td>0.0</td><td>0.0</td><td>0.0</td><td>0.0</td><td>0.0</td><td>2024.0</td><td>6.0</td><td>3.0</td><td>7.0</td><td>1.0</td><td>2875.0</td><td>0.0</td></tr><tr><td>&quot;75%&quot;</td><td>0.0</td><td>0.0</td><td>1.0</td><td>0.0</td><td>0.0</td><td>2024.0</td><td>10.0</td><td>5.0</td><td>20.0</td><td>1.0</td><td>3981.0</td><td>0.0</td></tr><tr><td>&quot;max&quot;</td><td>1.0</td><td>1.0</td><td>1.0</td><td>1.0</td><td>1.0</td><td>2024.0</td><td>12.0</td><td>7.0</td><td>23.0</td><td>1.0</td><td>8785.0</td><td>1.0</td></tr></tbody></table></div>"
      ],
      "text/plain": [
       "shape: (9, 13)\n",
       "┌───────────┬───────────┬───────────┬───────────┬───┬──────────┬───────────┬───────────┬───────────┐\n",
       "│ statistic ┆ about_pla ┆ is_hollin ┆ is_daily_ ┆ … ┆ hour     ┆ longer_th ┆ duration_ ┆ descripti │\n",
       "│ ---       ┆ yoff_game ┆ ger_dunca ┆ dunc      ┆   ┆ ---      ┆ irty_min  ┆ secs      ┆ on_contai │\n",
       "│ str       ┆ ---       ┆ n         ┆ ---       ┆   ┆ f64      ┆ ---       ┆ ---       ┆ ns_celtic │\n",
       "│           ┆ f64       ┆ ---       ┆ f64       ┆   ┆          ┆ f64       ┆ f64       ┆ s         │\n",
       "│           ┆           ┆ f64       ┆           ┆   ┆          ┆           ┆           ┆ ---       │\n",
       "│           ┆           ┆           ┆           ┆   ┆          ┆           ┆           ┆ f64       │\n",
       "╞═══════════╪═══════════╪═══════════╪═══════════╪═══╪══════════╪═══════════╪═══════════╪═══════════╡\n",
       "│ count     ┆ 553.0     ┆ 553.0     ┆ 553.0     ┆ … ┆ 553.0    ┆ 553.0     ┆ 553.0     ┆ 553.0     │\n",
       "│ null_coun ┆ 0.0       ┆ 0.0       ┆ 0.0       ┆ … ┆ 0.0      ┆ 0.0       ┆ 0.0       ┆ 0.0       │\n",
       "│ t         ┆           ┆           ┆           ┆   ┆          ┆           ┆           ┆           │\n",
       "│ mean      ┆ 0.074141  ┆ 0.050633  ┆ 0.399638  ┆ … ┆ 11.56962 ┆ 0.566004  ┆ 2524.6690 ┆ 0.005425  │\n",
       "│           ┆           ┆           ┆           ┆   ┆          ┆           ┆ 78        ┆           │\n",
       "│ std       ┆ 0.262238  ┆ 0.219445  ┆ 0.490267  ┆ … ┆ 8.581617 ┆ 0.496073  ┆ 2020.4039 ┆ 0.073521  │\n",
       "│           ┆           ┆           ┆           ┆   ┆          ┆           ┆ 06        ┆           │\n",
       "│ min       ┆ 0.0       ┆ 0.0       ┆ 0.0       ┆ … ┆ 0.0      ┆ 0.0       ┆ 139.0     ┆ 0.0       │\n",
       "│ 25%       ┆ 0.0       ┆ 0.0       ┆ 0.0       ┆ … ┆ 4.0      ┆ 0.0       ┆ 443.0     ┆ 0.0       │\n",
       "│ 50%       ┆ 0.0       ┆ 0.0       ┆ 0.0       ┆ … ┆ 7.0      ┆ 1.0       ┆ 2875.0    ┆ 0.0       │\n",
       "│ 75%       ┆ 0.0       ┆ 0.0       ┆ 1.0       ┆ … ┆ 20.0     ┆ 1.0       ┆ 3981.0    ┆ 0.0       │\n",
       "│ max       ┆ 1.0       ┆ 1.0       ┆ 1.0       ┆ … ┆ 23.0     ┆ 1.0       ┆ 8785.0    ┆ 1.0       │\n",
       "└───────────┴───────────┴───────────┴───────────┴───┴──────────┴───────────┴───────────┴───────────┘"
      ]
     },
     "execution_count": 127,
     "metadata": {},
     "output_type": "execute_result"
    }
   ],
   "source": [
    "df_features.describe()"
   ]
  },
  {
   "cell_type": "code",
   "execution_count": 121,
   "metadata": {},
   "outputs": [],
   "source": [
    "df_outcome = df_types.select(pl.col(\"banger\").cast(pl.Categorical))"
   ]
  },
  {
   "cell_type": "markdown",
   "metadata": {},
   "source": [
    "# Split into train and validation"
   ]
  },
  {
   "cell_type": "code",
   "execution_count": 65,
   "metadata": {},
   "outputs": [],
   "source": [
    "from sklearn.model_selection import train_test_split"
   ]
  },
  {
   "cell_type": "code",
   "execution_count": 130,
   "metadata": {},
   "outputs": [],
   "source": [
    "X_train, X_test, y_train, y_test = train_test_split(df_features, df_outcome, \n",
    "                                                    test_size=0.25, random_state= 33,\n",
    "                                                    stratify=df_outcome)"
   ]
  },
  {
   "cell_type": "code",
   "execution_count": 131,
   "metadata": {},
   "outputs": [
    {
     "data": {
      "text/html": [
       "<div><style>\n",
       ".dataframe > thead > tr,\n",
       ".dataframe > tbody > tr {\n",
       "  text-align: right;\n",
       "  white-space: pre-wrap;\n",
       "}\n",
       "</style>\n",
       "<small>shape: (9, 13)</small><table border=\"1\" class=\"dataframe\"><thead><tr><th>statistic</th><th>about_playoff_game</th><th>is_hollinger_duncan</th><th>is_daily_dunc</th><th>is_mock_episode</th><th>is_awards_episode</th><th>year</th><th>month</th><th>weekday</th><th>hour</th><th>longer_thirty_min</th><th>duration_secs</th><th>description_contains_celtics</th></tr><tr><td>str</td><td>f64</td><td>f64</td><td>f64</td><td>f64</td><td>f64</td><td>f64</td><td>f64</td><td>f64</td><td>f64</td><td>f64</td><td>f64</td><td>f64</td></tr></thead><tbody><tr><td>&quot;count&quot;</td><td>414.0</td><td>414.0</td><td>414.0</td><td>414.0</td><td>414.0</td><td>414.0</td><td>414.0</td><td>414.0</td><td>414.0</td><td>414.0</td><td>414.0</td><td>414.0</td></tr><tr><td>&quot;null_count&quot;</td><td>0.0</td><td>0.0</td><td>0.0</td><td>0.0</td><td>0.0</td><td>0.0</td><td>0.0</td><td>0.0</td><td>0.0</td><td>0.0</td><td>0.0</td><td>0.0</td></tr><tr><td>&quot;mean&quot;</td><td>0.077295</td><td>0.050725</td><td>0.400966</td><td>0.007246</td><td>0.002415</td><td>2023.956522</td><td>6.405797</td><td>3.439614</td><td>11.2343</td><td>0.557971</td><td>2481.862319</td><td>0.007246</td></tr><tr><td>&quot;std&quot;</td><td>0.267382</td><td>0.2197</td><td>0.490687</td><td>0.084919</td><td>0.049147</td><td>0.204178</td><td>3.562594</td><td>1.664317</td><td>8.580099</td><td>0.497229</td><td>2008.761364</td><td>0.084919</td></tr><tr><td>&quot;min&quot;</td><td>0.0</td><td>0.0</td><td>0.0</td><td>0.0</td><td>0.0</td><td>2023.0</td><td>1.0</td><td>1.0</td><td>0.0</td><td>0.0</td><td>139.0</td><td>0.0</td></tr><tr><td>&quot;25%&quot;</td><td>0.0</td><td>0.0</td><td>0.0</td><td>0.0</td><td>0.0</td><td>2024.0</td><td>4.0</td><td>2.0</td><td>3.0</td><td>0.0</td><td>445.0</td><td>0.0</td></tr><tr><td>&quot;50%&quot;</td><td>0.0</td><td>0.0</td><td>0.0</td><td>0.0</td><td>0.0</td><td>2024.0</td><td>6.0</td><td>3.0</td><td>7.0</td><td>1.0</td><td>2792.0</td><td>0.0</td></tr><tr><td>&quot;75%&quot;</td><td>0.0</td><td>0.0</td><td>1.0</td><td>0.0</td><td>0.0</td><td>2024.0</td><td>10.0</td><td>5.0</td><td>20.0</td><td>1.0</td><td>3985.0</td><td>0.0</td></tr><tr><td>&quot;max&quot;</td><td>1.0</td><td>1.0</td><td>1.0</td><td>1.0</td><td>1.0</td><td>2024.0</td><td>12.0</td><td>7.0</td><td>23.0</td><td>1.0</td><td>8785.0</td><td>1.0</td></tr></tbody></table></div>"
      ],
      "text/plain": [
       "shape: (9, 13)\n",
       "┌───────────┬───────────┬───────────┬───────────┬───┬──────────┬───────────┬───────────┬───────────┐\n",
       "│ statistic ┆ about_pla ┆ is_hollin ┆ is_daily_ ┆ … ┆ hour     ┆ longer_th ┆ duration_ ┆ descripti │\n",
       "│ ---       ┆ yoff_game ┆ ger_dunca ┆ dunc      ┆   ┆ ---      ┆ irty_min  ┆ secs      ┆ on_contai │\n",
       "│ str       ┆ ---       ┆ n         ┆ ---       ┆   ┆ f64      ┆ ---       ┆ ---       ┆ ns_celtic │\n",
       "│           ┆ f64       ┆ ---       ┆ f64       ┆   ┆          ┆ f64       ┆ f64       ┆ s         │\n",
       "│           ┆           ┆ f64       ┆           ┆   ┆          ┆           ┆           ┆ ---       │\n",
       "│           ┆           ┆           ┆           ┆   ┆          ┆           ┆           ┆ f64       │\n",
       "╞═══════════╪═══════════╪═══════════╪═══════════╪═══╪══════════╪═══════════╪═══════════╪═══════════╡\n",
       "│ count     ┆ 414.0     ┆ 414.0     ┆ 414.0     ┆ … ┆ 414.0    ┆ 414.0     ┆ 414.0     ┆ 414.0     │\n",
       "│ null_coun ┆ 0.0       ┆ 0.0       ┆ 0.0       ┆ … ┆ 0.0      ┆ 0.0       ┆ 0.0       ┆ 0.0       │\n",
       "│ t         ┆           ┆           ┆           ┆   ┆          ┆           ┆           ┆           │\n",
       "│ mean      ┆ 0.077295  ┆ 0.050725  ┆ 0.400966  ┆ … ┆ 11.2343  ┆ 0.557971  ┆ 2481.8623 ┆ 0.007246  │\n",
       "│           ┆           ┆           ┆           ┆   ┆          ┆           ┆ 19        ┆           │\n",
       "│ std       ┆ 0.267382  ┆ 0.2197    ┆ 0.490687  ┆ … ┆ 8.580099 ┆ 0.497229  ┆ 2008.7613 ┆ 0.084919  │\n",
       "│           ┆           ┆           ┆           ┆   ┆          ┆           ┆ 64        ┆           │\n",
       "│ min       ┆ 0.0       ┆ 0.0       ┆ 0.0       ┆ … ┆ 0.0      ┆ 0.0       ┆ 139.0     ┆ 0.0       │\n",
       "│ 25%       ┆ 0.0       ┆ 0.0       ┆ 0.0       ┆ … ┆ 3.0      ┆ 0.0       ┆ 445.0     ┆ 0.0       │\n",
       "│ 50%       ┆ 0.0       ┆ 0.0       ┆ 0.0       ┆ … ┆ 7.0      ┆ 1.0       ┆ 2792.0    ┆ 0.0       │\n",
       "│ 75%       ┆ 0.0       ┆ 0.0       ┆ 1.0       ┆ … ┆ 20.0     ┆ 1.0       ┆ 3985.0    ┆ 0.0       │\n",
       "│ max       ┆ 1.0       ┆ 1.0       ┆ 1.0       ┆ … ┆ 23.0     ┆ 1.0       ┆ 8785.0    ┆ 1.0       │\n",
       "└───────────┴───────────┴───────────┴───────────┴───┴──────────┴───────────┴───────────┴───────────┘"
      ]
     },
     "execution_count": 131,
     "metadata": {},
     "output_type": "execute_result"
    }
   ],
   "source": [
    "X_train.describe()"
   ]
  },
  {
   "cell_type": "markdown",
   "metadata": {},
   "source": [
    "# The baseline model is just guessing the majority class"
   ]
  },
  {
   "cell_type": "code",
   "execution_count": 118,
   "metadata": {},
   "outputs": [
    {
     "data": {
      "text/html": [
       "<div><style>\n",
       ".dataframe > thead > tr,\n",
       ".dataframe > tbody > tr {\n",
       "  text-align: right;\n",
       "  white-space: pre-wrap;\n",
       "}\n",
       "</style>\n",
       "<small>shape: (2, 2)</small><table border=\"1\" class=\"dataframe\"><thead><tr><th>banger</th><th>count</th></tr><tr><td>cat</td><td>u32</td></tr></thead><tbody><tr><td>&quot;no&quot;</td><td>254</td></tr><tr><td>&quot;yes&quot;</td><td>160</td></tr></tbody></table></div>"
      ],
      "text/plain": [
       "shape: (2, 2)\n",
       "┌────────┬───────┐\n",
       "│ banger ┆ count │\n",
       "│ ---    ┆ ---   │\n",
       "│ cat    ┆ u32   │\n",
       "╞════════╪═══════╡\n",
       "│ no     ┆ 254   │\n",
       "│ yes    ┆ 160   │\n",
       "└────────┴───────┘"
      ]
     },
     "execution_count": 118,
     "metadata": {},
     "output_type": "execute_result"
    }
   ],
   "source": [
    "y_train[\"banger\"].value_counts()"
   ]
  },
  {
   "cell_type": "code",
   "execution_count": 100,
   "metadata": {},
   "outputs": [],
   "source": [
    "from sklearn.metrics import accuracy_score"
   ]
  },
  {
   "cell_type": "code",
   "execution_count": 77,
   "metadata": {},
   "outputs": [
    {
     "name": "stdout",
     "output_type": "stream",
     "text": [
      "Baseline accuracy: 0.61\n"
     ]
    }
   ],
   "source": [
    "y_pred_baseline = [\"no\"] * len(y_train)\n",
    "accuracy = accuracy_score(y_true = y_train, y_pred=y_pred_baseline)\n",
    "\n",
    "print(f\"Baseline accuracy: {round(accuracy, 2)}\")"
   ]
  },
  {
   "cell_type": "markdown",
   "metadata": {},
   "source": [
    "# What if we train a simple logistic regression (with elastic net penalty)"
   ]
  },
  {
   "cell_type": "code",
   "execution_count": 132,
   "metadata": {},
   "outputs": [],
   "source": [
    "from sklearn.pipeline import Pipeline\n",
    "from sklearn.linear_model import LogisticRegression\n",
    "from sklearn.preprocessing import StandardScaler\n",
    "from sklearn.model_selection import GridSearchCV, StratifiedKFold\n",
    "from sklearn.metrics import classification_report"
   ]
  },
  {
   "cell_type": "code",
   "execution_count": 129,
   "metadata": {},
   "outputs": [
    {
     "name": "stderr",
     "output_type": "stream",
     "text": [
      "/Users/carbonite/Documents/github_vscode/duncd-on-analysis/.venv/lib/python3.11/site-packages/sklearn/utils/validation.py:1408: DataConversionWarning: A column-vector y was passed when a 1d array was expected. Please change the shape of y to (n_samples, ), for example using ravel().\n",
      "  y = column_or_1d(y, warn=True)\n",
      "/Users/carbonite/Documents/github_vscode/duncd-on-analysis/.venv/lib/python3.11/site-packages/sklearn/utils/validation.py:1408: DataConversionWarning: A column-vector y was passed when a 1d array was expected. Please change the shape of y to (n_samples, ), for example using ravel().\n",
      "  y = column_or_1d(y, warn=True)\n",
      "/Users/carbonite/Documents/github_vscode/duncd-on-analysis/.venv/lib/python3.11/site-packages/sklearn/utils/validation.py:1408: DataConversionWarning: A column-vector y was passed when a 1d array was expected. Please change the shape of y to (n_samples, ), for example using ravel().\n",
      "  y = column_or_1d(y, warn=True)\n",
      "/Users/carbonite/Documents/github_vscode/duncd-on-analysis/.venv/lib/python3.11/site-packages/sklearn/utils/validation.py:1408: DataConversionWarning: A column-vector y was passed when a 1d array was expected. Please change the shape of y to (n_samples, ), for example using ravel().\n",
      "  y = column_or_1d(y, warn=True)\n",
      "/Users/carbonite/Documents/github_vscode/duncd-on-analysis/.venv/lib/python3.11/site-packages/sklearn/utils/validation.py:1408: DataConversionWarning: A column-vector y was passed when a 1d array was expected. Please change the shape of y to (n_samples, ), for example using ravel().\n",
      "  y = column_or_1d(y, warn=True)\n",
      "/Users/carbonite/Documents/github_vscode/duncd-on-analysis/.venv/lib/python3.11/site-packages/sklearn/utils/validation.py:1408: DataConversionWarning: A column-vector y was passed when a 1d array was expected. Please change the shape of y to (n_samples, ), for example using ravel().\n",
      "  y = column_or_1d(y, warn=True)\n",
      "/Users/carbonite/Documents/github_vscode/duncd-on-analysis/.venv/lib/python3.11/site-packages/sklearn/utils/validation.py:1408: DataConversionWarning: A column-vector y was passed when a 1d array was expected. Please change the shape of y to (n_samples, ), for example using ravel().\n",
      "  y = column_or_1d(y, warn=True)\n",
      "/Users/carbonite/Documents/github_vscode/duncd-on-analysis/.venv/lib/python3.11/site-packages/sklearn/utils/validation.py:1408: DataConversionWarning: A column-vector y was passed when a 1d array was expected. Please change the shape of y to (n_samples, ), for example using ravel().\n",
      "  y = column_or_1d(y, warn=True)\n",
      "/Users/carbonite/Documents/github_vscode/duncd-on-analysis/.venv/lib/python3.11/site-packages/sklearn/utils/validation.py:1408: DataConversionWarning: A column-vector y was passed when a 1d array was expected. Please change the shape of y to (n_samples, ), for example using ravel().\n",
      "  y = column_or_1d(y, warn=True)\n",
      "/Users/carbonite/Documents/github_vscode/duncd-on-analysis/.venv/lib/python3.11/site-packages/sklearn/utils/validation.py:1408: DataConversionWarning: A column-vector y was passed when a 1d array was expected. Please change the shape of y to (n_samples, ), for example using ravel().\n",
      "  y = column_or_1d(y, warn=True)\n",
      "/Users/carbonite/Documents/github_vscode/duncd-on-analysis/.venv/lib/python3.11/site-packages/sklearn/utils/validation.py:1408: DataConversionWarning: A column-vector y was passed when a 1d array was expected. Please change the shape of y to (n_samples, ), for example using ravel().\n",
      "  y = column_or_1d(y, warn=True)\n",
      "/Users/carbonite/Documents/github_vscode/duncd-on-analysis/.venv/lib/python3.11/site-packages/sklearn/utils/validation.py:1408: DataConversionWarning: A column-vector y was passed when a 1d array was expected. Please change the shape of y to (n_samples, ), for example using ravel().\n",
      "  y = column_or_1d(y, warn=True)\n",
      "/Users/carbonite/Documents/github_vscode/duncd-on-analysis/.venv/lib/python3.11/site-packages/sklearn/utils/validation.py:1408: DataConversionWarning: A column-vector y was passed when a 1d array was expected. Please change the shape of y to (n_samples, ), for example using ravel().\n",
      "  y = column_or_1d(y, warn=True)\n",
      "/Users/carbonite/Documents/github_vscode/duncd-on-analysis/.venv/lib/python3.11/site-packages/sklearn/utils/validation.py:1408: DataConversionWarning: A column-vector y was passed when a 1d array was expected. Please change the shape of y to (n_samples, ), for example using ravel().\n",
      "  y = column_or_1d(y, warn=True)\n",
      "/Users/carbonite/Documents/github_vscode/duncd-on-analysis/.venv/lib/python3.11/site-packages/sklearn/utils/validation.py:1408: DataConversionWarning: A column-vector y was passed when a 1d array was expected. Please change the shape of y to (n_samples, ), for example using ravel().\n",
      "  y = column_or_1d(y, warn=True)\n",
      "/Users/carbonite/Documents/github_vscode/duncd-on-analysis/.venv/lib/python3.11/site-packages/sklearn/utils/validation.py:1408: DataConversionWarning: A column-vector y was passed when a 1d array was expected. Please change the shape of y to (n_samples, ), for example using ravel().\n",
      "  y = column_or_1d(y, warn=True)\n",
      "/Users/carbonite/Documents/github_vscode/duncd-on-analysis/.venv/lib/python3.11/site-packages/sklearn/utils/validation.py:1408: DataConversionWarning: A column-vector y was passed when a 1d array was expected. Please change the shape of y to (n_samples, ), for example using ravel().\n",
      "  y = column_or_1d(y, warn=True)\n",
      "/Users/carbonite/Documents/github_vscode/duncd-on-analysis/.venv/lib/python3.11/site-packages/sklearn/utils/validation.py:1408: DataConversionWarning: A column-vector y was passed when a 1d array was expected. Please change the shape of y to (n_samples, ), for example using ravel().\n",
      "  y = column_or_1d(y, warn=True)\n",
      "/Users/carbonite/Documents/github_vscode/duncd-on-analysis/.venv/lib/python3.11/site-packages/sklearn/utils/validation.py:1408: DataConversionWarning: A column-vector y was passed when a 1d array was expected. Please change the shape of y to (n_samples, ), for example using ravel().\n",
      "  y = column_or_1d(y, warn=True)\n",
      "/Users/carbonite/Documents/github_vscode/duncd-on-analysis/.venv/lib/python3.11/site-packages/sklearn/utils/validation.py:1408: DataConversionWarning: A column-vector y was passed when a 1d array was expected. Please change the shape of y to (n_samples, ), for example using ravel().\n",
      "  y = column_or_1d(y, warn=True)\n",
      "/Users/carbonite/Documents/github_vscode/duncd-on-analysis/.venv/lib/python3.11/site-packages/sklearn/utils/validation.py:1408: DataConversionWarning: A column-vector y was passed when a 1d array was expected. Please change the shape of y to (n_samples, ), for example using ravel().\n",
      "  y = column_or_1d(y, warn=True)\n",
      "/Users/carbonite/Documents/github_vscode/duncd-on-analysis/.venv/lib/python3.11/site-packages/sklearn/utils/validation.py:1408: DataConversionWarning: A column-vector y was passed when a 1d array was expected. Please change the shape of y to (n_samples, ), for example using ravel().\n",
      "  y = column_or_1d(y, warn=True)\n",
      "/Users/carbonite/Documents/github_vscode/duncd-on-analysis/.venv/lib/python3.11/site-packages/sklearn/utils/validation.py:1408: DataConversionWarning: A column-vector y was passed when a 1d array was expected. Please change the shape of y to (n_samples, ), for example using ravel().\n",
      "  y = column_or_1d(y, warn=True)\n",
      "/Users/carbonite/Documents/github_vscode/duncd-on-analysis/.venv/lib/python3.11/site-packages/sklearn/utils/validation.py:1408: DataConversionWarning: A column-vector y was passed when a 1d array was expected. Please change the shape of y to (n_samples, ), for example using ravel().\n",
      "  y = column_or_1d(y, warn=True)\n",
      "/Users/carbonite/Documents/github_vscode/duncd-on-analysis/.venv/lib/python3.11/site-packages/sklearn/utils/validation.py:1408: DataConversionWarning: A column-vector y was passed when a 1d array was expected. Please change the shape of y to (n_samples, ), for example using ravel().\n",
      "  y = column_or_1d(y, warn=True)\n",
      "/Users/carbonite/Documents/github_vscode/duncd-on-analysis/.venv/lib/python3.11/site-packages/sklearn/utils/validation.py:1408: DataConversionWarning: A column-vector y was passed when a 1d array was expected. Please change the shape of y to (n_samples, ), for example using ravel().\n",
      "  y = column_or_1d(y, warn=True)\n",
      "/Users/carbonite/Documents/github_vscode/duncd-on-analysis/.venv/lib/python3.11/site-packages/sklearn/utils/validation.py:1408: DataConversionWarning: A column-vector y was passed when a 1d array was expected. Please change the shape of y to (n_samples, ), for example using ravel().\n",
      "  y = column_or_1d(y, warn=True)\n",
      "/Users/carbonite/Documents/github_vscode/duncd-on-analysis/.venv/lib/python3.11/site-packages/sklearn/utils/validation.py:1408: DataConversionWarning: A column-vector y was passed when a 1d array was expected. Please change the shape of y to (n_samples, ), for example using ravel().\n",
      "  y = column_or_1d(y, warn=True)\n",
      "/Users/carbonite/Documents/github_vscode/duncd-on-analysis/.venv/lib/python3.11/site-packages/sklearn/utils/validation.py:1408: DataConversionWarning: A column-vector y was passed when a 1d array was expected. Please change the shape of y to (n_samples, ), for example using ravel().\n",
      "  y = column_or_1d(y, warn=True)\n",
      "/Users/carbonite/Documents/github_vscode/duncd-on-analysis/.venv/lib/python3.11/site-packages/sklearn/utils/validation.py:1408: DataConversionWarning: A column-vector y was passed when a 1d array was expected. Please change the shape of y to (n_samples, ), for example using ravel().\n",
      "  y = column_or_1d(y, warn=True)\n",
      "/Users/carbonite/Documents/github_vscode/duncd-on-analysis/.venv/lib/python3.11/site-packages/sklearn/utils/validation.py:1408: DataConversionWarning: A column-vector y was passed when a 1d array was expected. Please change the shape of y to (n_samples, ), for example using ravel().\n",
      "  y = column_or_1d(y, warn=True)\n",
      "/Users/carbonite/Documents/github_vscode/duncd-on-analysis/.venv/lib/python3.11/site-packages/sklearn/utils/validation.py:1408: DataConversionWarning: A column-vector y was passed when a 1d array was expected. Please change the shape of y to (n_samples, ), for example using ravel().\n",
      "  y = column_or_1d(y, warn=True)\n",
      "/Users/carbonite/Documents/github_vscode/duncd-on-analysis/.venv/lib/python3.11/site-packages/sklearn/utils/validation.py:1408: DataConversionWarning: A column-vector y was passed when a 1d array was expected. Please change the shape of y to (n_samples, ), for example using ravel().\n",
      "  y = column_or_1d(y, warn=True)\n",
      "/Users/carbonite/Documents/github_vscode/duncd-on-analysis/.venv/lib/python3.11/site-packages/sklearn/utils/validation.py:1408: DataConversionWarning: A column-vector y was passed when a 1d array was expected. Please change the shape of y to (n_samples, ), for example using ravel().\n",
      "  y = column_or_1d(y, warn=True)\n",
      "/Users/carbonite/Documents/github_vscode/duncd-on-analysis/.venv/lib/python3.11/site-packages/sklearn/utils/validation.py:1408: DataConversionWarning: A column-vector y was passed when a 1d array was expected. Please change the shape of y to (n_samples, ), for example using ravel().\n",
      "  y = column_or_1d(y, warn=True)\n",
      "/Users/carbonite/Documents/github_vscode/duncd-on-analysis/.venv/lib/python3.11/site-packages/sklearn/utils/validation.py:1408: DataConversionWarning: A column-vector y was passed when a 1d array was expected. Please change the shape of y to (n_samples, ), for example using ravel().\n",
      "  y = column_or_1d(y, warn=True)\n",
      "/Users/carbonite/Documents/github_vscode/duncd-on-analysis/.venv/lib/python3.11/site-packages/sklearn/utils/validation.py:1408: DataConversionWarning: A column-vector y was passed when a 1d array was expected. Please change the shape of y to (n_samples, ), for example using ravel().\n",
      "  y = column_or_1d(y, warn=True)\n",
      "/Users/carbonite/Documents/github_vscode/duncd-on-analysis/.venv/lib/python3.11/site-packages/sklearn/utils/validation.py:1408: DataConversionWarning: A column-vector y was passed when a 1d array was expected. Please change the shape of y to (n_samples, ), for example using ravel().\n",
      "  y = column_or_1d(y, warn=True)\n",
      "/Users/carbonite/Documents/github_vscode/duncd-on-analysis/.venv/lib/python3.11/site-packages/sklearn/utils/validation.py:1408: DataConversionWarning: A column-vector y was passed when a 1d array was expected. Please change the shape of y to (n_samples, ), for example using ravel().\n",
      "  y = column_or_1d(y, warn=True)\n",
      "/Users/carbonite/Documents/github_vscode/duncd-on-analysis/.venv/lib/python3.11/site-packages/sklearn/utils/validation.py:1408: DataConversionWarning: A column-vector y was passed when a 1d array was expected. Please change the shape of y to (n_samples, ), for example using ravel().\n",
      "  y = column_or_1d(y, warn=True)\n",
      "/Users/carbonite/Documents/github_vscode/duncd-on-analysis/.venv/lib/python3.11/site-packages/sklearn/utils/validation.py:1408: DataConversionWarning: A column-vector y was passed when a 1d array was expected. Please change the shape of y to (n_samples, ), for example using ravel().\n",
      "  y = column_or_1d(y, warn=True)\n",
      "/Users/carbonite/Documents/github_vscode/duncd-on-analysis/.venv/lib/python3.11/site-packages/sklearn/utils/validation.py:1408: DataConversionWarning: A column-vector y was passed when a 1d array was expected. Please change the shape of y to (n_samples, ), for example using ravel().\n",
      "  y = column_or_1d(y, warn=True)\n",
      "/Users/carbonite/Documents/github_vscode/duncd-on-analysis/.venv/lib/python3.11/site-packages/sklearn/utils/validation.py:1408: DataConversionWarning: A column-vector y was passed when a 1d array was expected. Please change the shape of y to (n_samples, ), for example using ravel().\n",
      "  y = column_or_1d(y, warn=True)\n",
      "/Users/carbonite/Documents/github_vscode/duncd-on-analysis/.venv/lib/python3.11/site-packages/sklearn/utils/validation.py:1408: DataConversionWarning: A column-vector y was passed when a 1d array was expected. Please change the shape of y to (n_samples, ), for example using ravel().\n",
      "  y = column_or_1d(y, warn=True)\n",
      "/Users/carbonite/Documents/github_vscode/duncd-on-analysis/.venv/lib/python3.11/site-packages/sklearn/utils/validation.py:1408: DataConversionWarning: A column-vector y was passed when a 1d array was expected. Please change the shape of y to (n_samples, ), for example using ravel().\n",
      "  y = column_or_1d(y, warn=True)\n",
      "/Users/carbonite/Documents/github_vscode/duncd-on-analysis/.venv/lib/python3.11/site-packages/sklearn/utils/validation.py:1408: DataConversionWarning: A column-vector y was passed when a 1d array was expected. Please change the shape of y to (n_samples, ), for example using ravel().\n",
      "  y = column_or_1d(y, warn=True)\n",
      "/Users/carbonite/Documents/github_vscode/duncd-on-analysis/.venv/lib/python3.11/site-packages/sklearn/utils/validation.py:1408: DataConversionWarning: A column-vector y was passed when a 1d array was expected. Please change the shape of y to (n_samples, ), for example using ravel().\n",
      "  y = column_or_1d(y, warn=True)\n",
      "/Users/carbonite/Documents/github_vscode/duncd-on-analysis/.venv/lib/python3.11/site-packages/sklearn/utils/validation.py:1408: DataConversionWarning: A column-vector y was passed when a 1d array was expected. Please change the shape of y to (n_samples, ), for example using ravel().\n",
      "  y = column_or_1d(y, warn=True)\n",
      "/Users/carbonite/Documents/github_vscode/duncd-on-analysis/.venv/lib/python3.11/site-packages/sklearn/utils/validation.py:1408: DataConversionWarning: A column-vector y was passed when a 1d array was expected. Please change the shape of y to (n_samples, ), for example using ravel().\n",
      "  y = column_or_1d(y, warn=True)\n",
      "/Users/carbonite/Documents/github_vscode/duncd-on-analysis/.venv/lib/python3.11/site-packages/sklearn/utils/validation.py:1408: DataConversionWarning: A column-vector y was passed when a 1d array was expected. Please change the shape of y to (n_samples, ), for example using ravel().\n",
      "  y = column_or_1d(y, warn=True)\n",
      "/Users/carbonite/Documents/github_vscode/duncd-on-analysis/.venv/lib/python3.11/site-packages/sklearn/utils/validation.py:1408: DataConversionWarning: A column-vector y was passed when a 1d array was expected. Please change the shape of y to (n_samples, ), for example using ravel().\n",
      "  y = column_or_1d(y, warn=True)\n",
      "/Users/carbonite/Documents/github_vscode/duncd-on-analysis/.venv/lib/python3.11/site-packages/sklearn/utils/validation.py:1408: DataConversionWarning: A column-vector y was passed when a 1d array was expected. Please change the shape of y to (n_samples, ), for example using ravel().\n",
      "  y = column_or_1d(y, warn=True)\n",
      "/Users/carbonite/Documents/github_vscode/duncd-on-analysis/.venv/lib/python3.11/site-packages/sklearn/utils/validation.py:1408: DataConversionWarning: A column-vector y was passed when a 1d array was expected. Please change the shape of y to (n_samples, ), for example using ravel().\n",
      "  y = column_or_1d(y, warn=True)\n",
      "/Users/carbonite/Documents/github_vscode/duncd-on-analysis/.venv/lib/python3.11/site-packages/sklearn/utils/validation.py:1408: DataConversionWarning: A column-vector y was passed when a 1d array was expected. Please change the shape of y to (n_samples, ), for example using ravel().\n",
      "  y = column_or_1d(y, warn=True)\n",
      "/Users/carbonite/Documents/github_vscode/duncd-on-analysis/.venv/lib/python3.11/site-packages/sklearn/utils/validation.py:1408: DataConversionWarning: A column-vector y was passed when a 1d array was expected. Please change the shape of y to (n_samples, ), for example using ravel().\n",
      "  y = column_or_1d(y, warn=True)\n",
      "/Users/carbonite/Documents/github_vscode/duncd-on-analysis/.venv/lib/python3.11/site-packages/sklearn/utils/validation.py:1408: DataConversionWarning: A column-vector y was passed when a 1d array was expected. Please change the shape of y to (n_samples, ), for example using ravel().\n",
      "  y = column_or_1d(y, warn=True)\n",
      "/Users/carbonite/Documents/github_vscode/duncd-on-analysis/.venv/lib/python3.11/site-packages/sklearn/utils/validation.py:1408: DataConversionWarning: A column-vector y was passed when a 1d array was expected. Please change the shape of y to (n_samples, ), for example using ravel().\n",
      "  y = column_or_1d(y, warn=True)\n",
      "/Users/carbonite/Documents/github_vscode/duncd-on-analysis/.venv/lib/python3.11/site-packages/sklearn/utils/validation.py:1408: DataConversionWarning: A column-vector y was passed when a 1d array was expected. Please change the shape of y to (n_samples, ), for example using ravel().\n",
      "  y = column_or_1d(y, warn=True)\n",
      "/Users/carbonite/Documents/github_vscode/duncd-on-analysis/.venv/lib/python3.11/site-packages/sklearn/utils/validation.py:1408: DataConversionWarning: A column-vector y was passed when a 1d array was expected. Please change the shape of y to (n_samples, ), for example using ravel().\n",
      "  y = column_or_1d(y, warn=True)\n",
      "/Users/carbonite/Documents/github_vscode/duncd-on-analysis/.venv/lib/python3.11/site-packages/sklearn/utils/validation.py:1408: DataConversionWarning: A column-vector y was passed when a 1d array was expected. Please change the shape of y to (n_samples, ), for example using ravel().\n",
      "  y = column_or_1d(y, warn=True)\n",
      "/Users/carbonite/Documents/github_vscode/duncd-on-analysis/.venv/lib/python3.11/site-packages/sklearn/utils/validation.py:1408: DataConversionWarning: A column-vector y was passed when a 1d array was expected. Please change the shape of y to (n_samples, ), for example using ravel().\n",
      "  y = column_or_1d(y, warn=True)\n",
      "/Users/carbonite/Documents/github_vscode/duncd-on-analysis/.venv/lib/python3.11/site-packages/sklearn/utils/validation.py:1408: DataConversionWarning: A column-vector y was passed when a 1d array was expected. Please change the shape of y to (n_samples, ), for example using ravel().\n",
      "  y = column_or_1d(y, warn=True)\n",
      "/Users/carbonite/Documents/github_vscode/duncd-on-analysis/.venv/lib/python3.11/site-packages/sklearn/utils/validation.py:1408: DataConversionWarning: A column-vector y was passed when a 1d array was expected. Please change the shape of y to (n_samples, ), for example using ravel().\n",
      "  y = column_or_1d(y, warn=True)\n",
      "/Users/carbonite/Documents/github_vscode/duncd-on-analysis/.venv/lib/python3.11/site-packages/sklearn/utils/validation.py:1408: DataConversionWarning: A column-vector y was passed when a 1d array was expected. Please change the shape of y to (n_samples, ), for example using ravel().\n",
      "  y = column_or_1d(y, warn=True)\n",
      "/Users/carbonite/Documents/github_vscode/duncd-on-analysis/.venv/lib/python3.11/site-packages/sklearn/utils/validation.py:1408: DataConversionWarning: A column-vector y was passed when a 1d array was expected. Please change the shape of y to (n_samples, ), for example using ravel().\n",
      "  y = column_or_1d(y, warn=True)\n",
      "/Users/carbonite/Documents/github_vscode/duncd-on-analysis/.venv/lib/python3.11/site-packages/sklearn/utils/validation.py:1408: DataConversionWarning: A column-vector y was passed when a 1d array was expected. Please change the shape of y to (n_samples, ), for example using ravel().\n",
      "  y = column_or_1d(y, warn=True)\n",
      "/Users/carbonite/Documents/github_vscode/duncd-on-analysis/.venv/lib/python3.11/site-packages/sklearn/utils/validation.py:1408: DataConversionWarning: A column-vector y was passed when a 1d array was expected. Please change the shape of y to (n_samples, ), for example using ravel().\n",
      "  y = column_or_1d(y, warn=True)\n",
      "/Users/carbonite/Documents/github_vscode/duncd-on-analysis/.venv/lib/python3.11/site-packages/sklearn/utils/validation.py:1408: DataConversionWarning: A column-vector y was passed when a 1d array was expected. Please change the shape of y to (n_samples, ), for example using ravel().\n",
      "  y = column_or_1d(y, warn=True)\n",
      "/Users/carbonite/Documents/github_vscode/duncd-on-analysis/.venv/lib/python3.11/site-packages/sklearn/utils/validation.py:1408: DataConversionWarning: A column-vector y was passed when a 1d array was expected. Please change the shape of y to (n_samples, ), for example using ravel().\n",
      "  y = column_or_1d(y, warn=True)\n",
      "/Users/carbonite/Documents/github_vscode/duncd-on-analysis/.venv/lib/python3.11/site-packages/sklearn/utils/validation.py:1408: DataConversionWarning: A column-vector y was passed when a 1d array was expected. Please change the shape of y to (n_samples, ), for example using ravel().\n",
      "  y = column_or_1d(y, warn=True)\n",
      "/Users/carbonite/Documents/github_vscode/duncd-on-analysis/.venv/lib/python3.11/site-packages/sklearn/utils/validation.py:1408: DataConversionWarning: A column-vector y was passed when a 1d array was expected. Please change the shape of y to (n_samples, ), for example using ravel().\n",
      "  y = column_or_1d(y, warn=True)\n",
      "/Users/carbonite/Documents/github_vscode/duncd-on-analysis/.venv/lib/python3.11/site-packages/sklearn/utils/validation.py:1408: DataConversionWarning: A column-vector y was passed when a 1d array was expected. Please change the shape of y to (n_samples, ), for example using ravel().\n",
      "  y = column_or_1d(y, warn=True)\n",
      "/Users/carbonite/Documents/github_vscode/duncd-on-analysis/.venv/lib/python3.11/site-packages/sklearn/utils/validation.py:1408: DataConversionWarning: A column-vector y was passed when a 1d array was expected. Please change the shape of y to (n_samples, ), for example using ravel().\n",
      "  y = column_or_1d(y, warn=True)\n",
      "/Users/carbonite/Documents/github_vscode/duncd-on-analysis/.venv/lib/python3.11/site-packages/sklearn/utils/validation.py:1408: DataConversionWarning: A column-vector y was passed when a 1d array was expected. Please change the shape of y to (n_samples, ), for example using ravel().\n",
      "  y = column_or_1d(y, warn=True)\n",
      "/Users/carbonite/Documents/github_vscode/duncd-on-analysis/.venv/lib/python3.11/site-packages/sklearn/utils/validation.py:1408: DataConversionWarning: A column-vector y was passed when a 1d array was expected. Please change the shape of y to (n_samples, ), for example using ravel().\n",
      "  y = column_or_1d(y, warn=True)\n",
      "/Users/carbonite/Documents/github_vscode/duncd-on-analysis/.venv/lib/python3.11/site-packages/sklearn/utils/validation.py:1408: DataConversionWarning: A column-vector y was passed when a 1d array was expected. Please change the shape of y to (n_samples, ), for example using ravel().\n",
      "  y = column_or_1d(y, warn=True)\n",
      "/Users/carbonite/Documents/github_vscode/duncd-on-analysis/.venv/lib/python3.11/site-packages/sklearn/utils/validation.py:1408: DataConversionWarning: A column-vector y was passed when a 1d array was expected. Please change the shape of y to (n_samples, ), for example using ravel().\n",
      "  y = column_or_1d(y, warn=True)\n",
      "/Users/carbonite/Documents/github_vscode/duncd-on-analysis/.venv/lib/python3.11/site-packages/sklearn/utils/validation.py:1408: DataConversionWarning: A column-vector y was passed when a 1d array was expected. Please change the shape of y to (n_samples, ), for example using ravel().\n",
      "  y = column_or_1d(y, warn=True)\n"
     ]
    },
    {
     "name": "stdout",
     "output_type": "stream",
     "text": [
      "Best Parameters: {'classifier__C': 0.1, 'classifier__l1_ratio': 0.9}\n",
      "Best Cross-Validation Score: 0.7947693211871878\n"
     ]
    },
    {
     "name": "stderr",
     "output_type": "stream",
     "text": [
      "/Users/carbonite/Documents/github_vscode/duncd-on-analysis/.venv/lib/python3.11/site-packages/sklearn/linear_model/_sag.py:348: ConvergenceWarning: The max_iter was reached which means the coef_ did not converge\n",
      "  warnings.warn(\n",
      "/Users/carbonite/Documents/github_vscode/duncd-on-analysis/.venv/lib/python3.11/site-packages/sklearn/utils/validation.py:1408: DataConversionWarning: A column-vector y was passed when a 1d array was expected. Please change the shape of y to (n_samples, ), for example using ravel().\n",
      "  y = column_or_1d(y, warn=True)\n",
      "/Users/carbonite/Documents/github_vscode/duncd-on-analysis/.venv/lib/python3.11/site-packages/sklearn/utils/validation.py:1408: DataConversionWarning: A column-vector y was passed when a 1d array was expected. Please change the shape of y to (n_samples, ), for example using ravel().\n",
      "  y = column_or_1d(y, warn=True)\n",
      "/Users/carbonite/Documents/github_vscode/duncd-on-analysis/.venv/lib/python3.11/site-packages/sklearn/utils/validation.py:1408: DataConversionWarning: A column-vector y was passed when a 1d array was expected. Please change the shape of y to (n_samples, ), for example using ravel().\n",
      "  y = column_or_1d(y, warn=True)\n"
     ]
    }
   ],
   "source": [
    "pipeline = Pipeline(\n",
    "    [\n",
    "        (\"scaler\", StandardScaler()),\n",
    "        (\"classifier\", LogisticRegression(penalty='elasticnet', solver='saga', \n",
    "                                          random_state=33, max_iter=1000))\n",
    "    ]\n",
    ")\n",
    "\n",
    "kfold = StratifiedKFold(n_splits = 5, shuffle = True, random_state = 33)\n",
    "\n",
    "# Define hyperparameter grid\n",
    "param_grid = {\n",
    "    'classifier__l1_ratio': [0.1, 0.5, 0.7, 0.9],  # Elastic Net mixing ratio\n",
    "    'classifier__C': [0.01, 0.1, 1, 10]           # Regularization strength\n",
    "}\n",
    "\n",
    "# GridSearchCV for hyperparameter tuning\n",
    "grid_search = GridSearchCV(estimator=pipeline, param_grid=param_grid, cv=kfold, scoring='accuracy', n_jobs=-1)\n",
    "\n",
    "# Fit the grid search\n",
    "grid_search.fit(X_train, y_train)\n",
    "\n",
    "# Display the best parameters and best score\n",
    "print(\"Best Parameters:\", grid_search.best_params_)\n",
    "print(\"Best Cross-Validation Score:\", grid_search.best_score_)"
   ]
  },
  {
   "cell_type": "code",
   "execution_count": 135,
   "metadata": {},
   "outputs": [
    {
     "name": "stdout",
     "output_type": "stream",
     "text": [
      "Pipeline(steps=[('scaler', StandardScaler()),\n",
      "                ('classifier',\n",
      "                 LogisticRegression(C=0.1, l1_ratio=0.9, max_iter=1000,\n",
      "                                    penalty='elasticnet', random_state=33,\n",
      "                                    solver='saga'))])\n",
      "Best Parameters: {'classifier__C': 0.1, 'classifier__l1_ratio': 0.9}\n",
      "Best Cross-Validation Score: 0.7947693211871878\n",
      "\n",
      "Classification Report on Test Set:\n",
      "\n",
      "              precision    recall  f1-score   support\n",
      "\n",
      "          no       0.98      0.68      0.81        85\n",
      "         yes       0.66      0.98      0.79        54\n",
      "\n",
      "    accuracy                           0.80       139\n",
      "   macro avg       0.82      0.83      0.80       139\n",
      "weighted avg       0.86      0.80      0.80       139\n",
      "\n"
     ]
    }
   ],
   "source": [
    "# Retrieve the best model\n",
    "best_model = grid_search.best_estimator_\n",
    "print(best_model)\n",
    "\n",
    "# Predict on the test set\n",
    "y_pred = best_model.predict(X_test)\n",
    "\n",
    "# Evaluate the model\n",
    "print(\"Best Parameters:\", grid_search.best_params_)\n",
    "print(\"Best Cross-Validation Score:\", grid_search.best_score_)\n",
    "print(\"\\nClassification Report on Test Set:\\n\")\n",
    "print(classification_report(y_test, y_pred))"
   ]
  },
  {
   "cell_type": "markdown",
   "metadata": {},
   "source": [
    "# Convert to onnx for faster inference"
   ]
  },
  {
   "cell_type": "code",
   "execution_count": 143,
   "metadata": {},
   "outputs": [
    {
     "name": "stdout",
     "output_type": "stream",
     "text": [
      "Original model predictions: ['yes' 'no' 'yes' 'no' 'no']\n",
      "ONNX model predictions: ['yes' 'no' 'yes' 'no' 'no']\n"
     ]
    }
   ],
   "source": [
    "import skl2onnx\n",
    "from skl2onnx import convert_sklearn\n",
    "from skl2onnx.common.data_types import FloatTensorType\n",
    "\n",
    "# Get the number of features from training data\n",
    "n_features = X_train.shape[1]\n",
    "\n",
    "# Define the initial types for the features\n",
    "initial_types = [('float_input', FloatTensorType([None, n_features]))]\n",
    "\n",
    "# Convert the model to ONNX\n",
    "onnx_model = convert_sklearn(\n",
    "    best_model,\n",
    "    initial_types=initial_types,\n",
    "    target_opset=15  # Can adjust the opset version if needed\n",
    ")\n",
    "\n",
    "# Save the ONNX model\n",
    "onnx_model_path = \"episode_banger_model.onnx\"\n",
    "with open(onnx_model_path, \"wb\") as f:\n",
    "    f.write(onnx_model.SerializeToString())"
   ]
  },
  {
   "cell_type": "code",
   "execution_count": 150,
   "metadata": {},
   "outputs": [
    {
     "name": "stdout",
     "output_type": "stream",
     "text": [
      "Input name: float_input\n",
      "0.6986801028251648\n",
      "Original model predictions: ['yes' 'no' 'yes' 'no' 'no']\n",
      "ONNX model predictions: ['yes' 'no' 'yes' 'no' 'no']\n",
      "ONNX model probabilities: [{'no': 0.3013198971748352, 'yes': 0.6986801028251648}, {'no': 0.970174252986908, 'yes': 0.02982574701309204}, {'no': 0.44074806571006775, 'yes': 0.5592519044876099}, {'no': 0.9732498526573181, 'yes': 0.026750147342681885}, {'no': 0.9692041277885437, 'yes': 0.0307958722114563}]\n"
     ]
    }
   ],
   "source": [
    "# Optional: Verify the model can be loaded\n",
    "import onnxruntime as rt\n",
    "sess = rt.InferenceSession(onnx_model_path)\n",
    "\n",
    "# Optional: Test inference with the ONNX model\n",
    "# Make sure X_test is numpy array\n",
    "X_test_numpy = X_test.to_numpy()\n",
    "input_name = sess.get_inputs()[0].name\n",
    "print(f\"Input name: {input_name}\")\n",
    "pred_onnx = sess.run(None, {input_name: X_test_numpy.astype(np.float32)})[0]\n",
    "pred_onnx_probs = sess.run(None, {input_name: X_test_numpy.astype(np.float32)})[1]\n",
    "\n",
    "print(pred_onnx_probs[0][\"yes\"])\n",
    "\n",
    "# Compare predictions with original model\n",
    "print(\"Original model predictions:\", y_pred[:5])\n",
    "print(\"ONNX model predictions:\", pred_onnx[:5])\n",
    "print(\"ONNX model probabilities:\", pred_onnx_probs[:5])"
   ]
  },
  {
   "cell_type": "code",
   "execution_count": null,
   "metadata": {},
   "outputs": [],
   "source": []
  }
 ],
 "metadata": {
  "kernelspec": {
   "display_name": ".venv",
   "language": "python",
   "name": "python3"
  },
  "language_info": {
   "codemirror_mode": {
    "name": "ipython",
    "version": 3
   },
   "file_extension": ".py",
   "mimetype": "text/x-python",
   "name": "python",
   "nbconvert_exporter": "python",
   "pygments_lexer": "ipython3",
   "version": "3.11.11"
  }
 },
 "nbformat": 4,
 "nbformat_minor": 2
}
